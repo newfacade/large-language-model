{
 "cells": [
  {
   "cell_type": "markdown",
   "id": "3d12b446-d2fd-4361-85a9-59c953fcae24",
   "metadata": {},
   "source": [
    "# Llama\n",
    "\n",
    "```{note}\n",
    "Llama shows that it is possible to train state-of-the-art models using publicly available datasets exclusively.\n",
    "```\n",
    "\n",
    "paper: https://arxiv.org/abs/2302.13971\n",
    "\n",
    "github: https://github.com/facebookresearch/llama"
   ]
  },
  {
   "cell_type": "markdown",
   "id": "85d63d06-5df8-49ba-b65c-a19b8942ad1d",
   "metadata": {},
   "source": [
    "## Introduction\n",
    "\n",
    "More parameters leads to better performance? Recent work shows that, for a given compute budget, the best performances are not achieved by the largest models, but smaller models trained on more data."
   ]
  },
  {
   "cell_type": "code",
   "execution_count": null,
   "id": "97f4afac-dd97-444d-8ed5-406dfb5cb5fc",
   "metadata": {},
   "outputs": [],
   "source": []
  }
 ],
 "metadata": {
  "kernelspec": {
   "display_name": "Python 3 (ipykernel)",
   "language": "python",
   "name": "python3"
  },
  "language_info": {
   "codemirror_mode": {
    "name": "ipython",
    "version": 3
   },
   "file_extension": ".py",
   "mimetype": "text/x-python",
   "name": "python",
   "nbconvert_exporter": "python",
   "pygments_lexer": "ipython3",
   "version": "3.11.5"
  }
 },
 "nbformat": 4,
 "nbformat_minor": 5
}
