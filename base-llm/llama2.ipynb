{
 "cells": [
  {
   "cell_type": "markdown",
   "id": "e0b5dbbf-a572-4ffc-859c-3c0f5e511e53",
   "metadata": {},
   "source": [
    "# Llama2\n",
    "\n",
    "```{note}\n",
    "相比于 Llama 1 ，Llama 2 的训练数据多了 40%，上下文长度也翻倍，并采用了分组查询注意力机制 (Grouped-Query Attention, GQA)。具体来说，Llama 2预训练模型是在2 万亿的 token上训练的，精调 Chat 模型是在100 万人类标记数据上训练的。\n",
    "```\n",
    "\n"
   ]
  },
  {
   "cell_type": "markdown",
   "id": "54b4e684-44a0-426d-8241-8a4d36f74b9b",
   "metadata": {},
   "source": [
    "## Supervised Fine-Tuning (SFT)\n",
    "\n",
    "再次重申：SFT数据集的质量很重要，万级别的高质量效果就很好。没有使用公开的几百万指令数据集，而是找供应商精标了27,540条（人工撰写prompt 和answer，包括 helpfulness 和 safety 两大类 ），发现效果比几百万公开的要好。\n",
    "\n",
    "「Data Quality Is All You Need。」 MetaAI进行实验时发现，少量高质量数据集训练模型的效果，要好于大量低质量数据集的训练效果。因此以后SFT时候，不要一味地追求量，质更重要。"
   ]
  },
  {
   "cell_type": "markdown",
   "id": "085cb43d-a152-4e92-8056-6b6158ab1582",
   "metadata": {},
   "source": [
    "## RLHF"
   ]
  },
  {
   "cell_type": "code",
   "execution_count": null,
   "id": "eb946a0c-4061-43ce-b10d-83eed6ee592a",
   "metadata": {},
   "outputs": [],
   "source": []
  }
 ],
 "metadata": {
  "kernelspec": {
   "display_name": "Python 3",
   "language": "python",
   "name": "python3"
  },
  "language_info": {
   "codemirror_mode": {
    "name": "ipython",
    "version": 3
   },
   "file_extension": ".py",
   "mimetype": "text/x-python",
   "name": "python",
   "nbconvert_exporter": "python",
   "pygments_lexer": "ipython3",
   "version": "3.8.3"
  }
 },
 "nbformat": 4,
 "nbformat_minor": 5
}
