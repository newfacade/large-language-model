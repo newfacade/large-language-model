{
 "cells": [
  {
   "cell_type": "markdown",
   "id": "237d1d64-ea16-4959-a4e8-2503eb272a4c",
   "metadata": {},
   "source": [
    "# Llama Code"
   ]
  },
  {
   "cell_type": "markdown",
   "id": "9a3a9a3a-be29-4516-8d5b-27b694283573",
   "metadata": {},
   "source": [
    "## RMSNorm\n",
    "\n",
    "Suppose $\\mathbf{X}\\in\\mathbb{R}^{optional\\times d}$, last dimension is $d$. RMSNorm performs on the last dimension, with scalars $a_{1},\\dots,a_{d}$:\n",
    "\n",
    "$$\n",
    "\\begin{aligned}\n",
    "\\text{RMS}(\\mathbf{a}) &= \\sqrt{\\frac{1}{d}\\sum_{i=1}^{d}a_{i}^{2} + \\epsilon}\\\\\n",
    "\\bar{a_{i}} &= \\frac{a_{i}}{\\text{RMS}(\\mathbf{a})}w_{i}\n",
    "\\end{aligned}\n",
    "$$\n",
    "\n",
    "Weight $\\mathbf{w}\\in\\mathbb{R}^{d}$."
   ]
  },
  {
   "cell_type": "code",
   "execution_count": 1,
   "id": "26eb027d-711f-41ae-839a-57c7eef62825",
   "metadata": {
    "tags": []
   },
   "outputs": [],
   "source": [
    "import torch\n",
    "from torch import nn\n",
    "\n",
    "\n",
    "class RMSNorm(torch.nn.Module):\n",
    "    def __init__(self, dim: int, eps: float = 1e-6):\n",
    "        \"\"\"\n",
    "        Initialize the RMSNorm normalization layer.\n",
    "\n",
    "        Args:\n",
    "            dim (int): The dimension of the input tensor.\n",
    "            eps (float, optional): A small value added to the denominator for numerical stability. Default is 1e-6.\n",
    "\n",
    "        Attributes:\n",
    "            eps (float): A small value added to the denominator for numerical stability.\n",
    "            weight (nn.Parameter): Learnable scaling parameter.\n",
    "\n",
    "        \"\"\"\n",
    "        super().__init__()\n",
    "        self.eps = eps\n",
    "        self.weight = nn.Parameter(torch.ones(dim))\n",
    "\n",
    "    def _norm(self, x):\n",
    "        \"\"\"\n",
    "        Apply the RMSNorm normalization to the input tensor.\n",
    "\n",
    "        Args:\n",
    "            x (torch.Tensor): The input tensor.\n",
    "\n",
    "        Returns:\n",
    "            torch.Tensor: The normalized tensor.\n",
    "\n",
    "        \"\"\"\n",
    "        return x * torch.rsqrt(x.pow(2).mean(-1, keepdim=True) + self.eps)\n",
    "\n",
    "    def forward(self, x):\n",
    "        \"\"\"\n",
    "        Forward pass through the RMSNorm layer.\n",
    "\n",
    "        Args:\n",
    "            x (torch.Tensor): The input tensor.\n",
    "\n",
    "        Returns:\n",
    "            torch.Tensor: The output tensor after applying RMSNorm.\n",
    "\n",
    "        \"\"\"\n",
    "        output = self._norm(x.float()).type_as(x)\n",
    "        return output * self.weight"
   ]
  },
  {
   "cell_type": "code",
   "execution_count": 8,
   "id": "47ff422d-a5d6-4d47-b0e1-0eacd76b7656",
   "metadata": {
    "tags": []
   },
   "outputs": [
    {
     "data": {
      "text/plain": [
       "tensor([[[ 1.0185, -0.0323, -0.1116,  0.2731],\n",
       "         [ 0.4527, -0.8262,  0.5210,  1.4562],\n",
       "         [-0.2279, -1.4570,  0.3255,  0.8584]],\n",
       "\n",
       "        [[-1.2045,  0.0891,  0.3982, -0.0681],\n",
       "         [-1.2457,  0.6341,  1.8910,  0.4150],\n",
       "         [ 1.5039, -0.9606,  1.0872, -0.3793]]])"
      ]
     },
     "execution_count": 8,
     "metadata": {},
     "output_type": "execute_result"
    }
   ],
   "source": [
    "dim = 4\n",
    "x = torch.randn(2, 3, 4)\n",
    "x"
   ]
  },
  {
   "cell_type": "code",
   "execution_count": 9,
   "id": "a74cd137-457e-4845-8506-81b741ed8b1f",
   "metadata": {
    "tags": []
   },
   "outputs": [
    {
     "data": {
      "text/plain": [
       "tensor([[[1.0374e+00, 1.0458e-03, 1.2463e-02, 7.4576e-02],\n",
       "         [2.0498e-01, 6.8258e-01, 2.7140e-01, 2.1205e+00],\n",
       "         [5.1918e-02, 2.1227e+00, 1.0594e-01, 7.3680e-01]],\n",
       "\n",
       "        [[1.4509e+00, 7.9472e-03, 1.5857e-01, 4.6335e-03],\n",
       "         [1.5517e+00, 4.0211e-01, 3.5758e+00, 1.7223e-01],\n",
       "         [2.2617e+00, 9.2283e-01, 1.1820e+00, 1.4383e-01]]])"
      ]
     },
     "execution_count": 9,
     "metadata": {},
     "output_type": "execute_result"
    }
   ],
   "source": [
    "x.pow(2)"
   ]
  },
  {
   "cell_type": "code",
   "execution_count": 10,
   "id": "5fae014f-8c36-48dd-ba10-e254ba452999",
   "metadata": {
    "tags": []
   },
   "outputs": [
    {
     "data": {
      "text/plain": [
       "tensor([[[0.2814],\n",
       "         [0.8199],\n",
       "         [0.7543]],\n",
       "\n",
       "        [[0.4055],\n",
       "         [1.4255],\n",
       "         [1.1276]]])"
      ]
     },
     "execution_count": 10,
     "metadata": {},
     "output_type": "execute_result"
    }
   ],
   "source": [
    "x.pow(2).mean(-1, keepdim=True)"
   ]
  },
  {
   "cell_type": "code",
   "execution_count": 12,
   "id": "1b95e339-446e-49a2-a046-e997556058e6",
   "metadata": {
    "tags": []
   },
   "outputs": [
    {
     "data": {
      "text/plain": [
       "tensor([[[1.8852],\n",
       "         [1.1044],\n",
       "         [1.1514]],\n",
       "\n",
       "        [[1.5704],\n",
       "         [0.8376],\n",
       "         [0.9417]]])"
      ]
     },
     "execution_count": 12,
     "metadata": {},
     "output_type": "execute_result"
    }
   ],
   "source": [
    "torch.rsqrt(x.pow(2).mean(-1, keepdim=True))"
   ]
  },
  {
   "cell_type": "markdown",
   "id": "bf668de4-19a6-4cd6-8165-b88784cdd006",
   "metadata": {},
   "source": [
    "## Rotary Embedding"
   ]
  },
  {
   "cell_type": "code",
   "execution_count": 15,
   "id": "f2915492-9f9c-4eef-a38d-6c96de83f580",
   "metadata": {
    "tags": []
   },
   "outputs": [],
   "source": [
    "from typing import Tuple\n",
    "\n",
    "def apply_rotary_emb(\n",
    "    xq: torch.Tensor,\n",
    "    xk: torch.Tensor,\n",
    "    freqs_cis: torch.Tensor,\n",
    ") -> Tuple[torch.Tensor, torch.Tensor]:\n",
    "    \"\"\"\n",
    "    Apply rotary embeddings to input tensors using the given frequency tensor.\n",
    "\n",
    "    This function applies rotary embeddings to the given query 'xq' and key 'xk' tensors using the provided\n",
    "    frequency tensor 'freqs_cis'. The input tensors are reshaped as complex numbers, and the frequency tensor\n",
    "    is reshaped for broadcasting compatibility. The resulting tensors contain rotary embeddings and are\n",
    "    returned as real tensors.\n",
    "\n",
    "    Args:\n",
    "        xq (torch.Tensor): Query tensor to apply rotary embeddings.\n",
    "        xk (torch.Tensor): Key tensor to apply rotary embeddings.\n",
    "        freqs_cis (torch.Tensor): Precomputed frequency tensor for complex exponentials.\n",
    "\n",
    "    Returns:\n",
    "        Tuple[torch.Tensor, torch.Tensor]: Tuple of modified query tensor and key tensor with rotary embeddings.\n",
    "    \"\"\"\n",
    "    xq_ = torch.view_as_complex(xq.float().reshape(*xq.shape[:-1], -1, 2))\n",
    "    xk_ = torch.view_as_complex(xk.float().reshape(*xk.shape[:-1], -1, 2))\n",
    "    freqs_cis = reshape_for_broadcast(freqs_cis, xq_)\n",
    "    xq_out = torch.view_as_real(xq_ * freqs_cis).flatten(3)\n",
    "    xk_out = torch.view_as_real(xk_ * freqs_cis).flatten(3)\n",
    "    return xq_out.type_as(xq), xk_out.type_as(xk)\n",
    "\n",
    "\n",
    "def repeat_kv(x: torch.Tensor, n_rep: int) -> torch.Tensor:\n",
    "    \"\"\"torch.repeat_interleave(x, dim=2, repeats=n_rep)\"\"\"\n",
    "    bs, slen, n_kv_heads, head_dim = x.shape\n",
    "    if n_rep == 1:\n",
    "        return x\n",
    "    return (\n",
    "        x[:, :, :, None, :]\n",
    "        .expand(bs, slen, n_kv_heads, n_rep, head_dim)\n",
    "        .reshape(bs, slen, n_kv_heads * n_rep, head_dim)\n",
    "    )"
   ]
  },
  {
   "cell_type": "code",
   "execution_count": null,
   "id": "9e609344-5f9e-49e8-85b1-01518a5ec143",
   "metadata": {},
   "outputs": [],
   "source": []
  }
 ],
 "metadata": {
  "kernelspec": {
   "display_name": "Python 3 (ipykernel)",
   "language": "python",
   "name": "python3"
  },
  "language_info": {
   "codemirror_mode": {
    "name": "ipython",
    "version": 3
   },
   "file_extension": ".py",
   "mimetype": "text/x-python",
   "name": "python",
   "nbconvert_exporter": "python",
   "pygments_lexer": "ipython3",
   "version": "3.11.5"
  }
 },
 "nbformat": 4,
 "nbformat_minor": 5
}
