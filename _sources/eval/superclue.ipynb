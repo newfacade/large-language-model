{
 "cells": [
  {
   "cell_type": "markdown",
   "id": "99c32ec4-a38a-453b-8ee6-860046ce8bc8",
   "metadata": {},
   "source": [
    "# SuperCLUE\n",
    "\n",
    "```{note}\n",
    "```"
   ]
  },
  {
   "cell_type": "code",
   "execution_count": null,
   "id": "447ef97c-7e76-49de-8924-0562259470b6",
   "metadata": {},
   "outputs": [],
   "source": []
  }
 ],
 "metadata": {
  "kernelspec": {
   "display_name": "Python 3 (ipykernel)",
   "language": "python",
   "name": "python3"
  },
  "language_info": {
   "codemirror_mode": {
    "name": "ipython",
    "version": 3
   },
   "file_extension": ".py",
   "mimetype": "text/x-python",
   "name": "python",
   "nbconvert_exporter": "python",
   "pygments_lexer": "ipython3",
   "version": "3.11.5"
  }
 },
 "nbformat": 4,
 "nbformat_minor": 5
}
