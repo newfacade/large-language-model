{
 "cells": [
  {
   "cell_type": "markdown",
   "id": "71cdb2a7-7272-4738-aa2c-a2bd9f6426db",
   "metadata": {},
   "source": [
    "# Deepseek Coder\n",
    "\n",
    "github: https://github.com/deepseek-ai/DeepSeek-Coder"
   ]
  },
  {
   "cell_type": "code",
   "execution_count": null,
   "id": "d4f0e095-954d-4331-8f5c-8e7cdb547168",
   "metadata": {},
   "outputs": [],
   "source": []
  }
 ],
 "metadata": {
  "kernelspec": {
   "display_name": "Python 3 (ipykernel)",
   "language": "python",
   "name": "python3"
  },
  "language_info": {
   "codemirror_mode": {
    "name": "ipython",
    "version": 3
   },
   "file_extension": ".py",
   "mimetype": "text/x-python",
   "name": "python",
   "nbconvert_exporter": "python",
   "pygments_lexer": "ipython3",
   "version": "3.11.5"
  }
 },
 "nbformat": 4,
 "nbformat_minor": 5
}
