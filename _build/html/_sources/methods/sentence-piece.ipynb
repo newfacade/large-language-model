{
 "cells": [
  {
   "cell_type": "markdown",
   "id": "b46c5025-431e-4851-9474-2cbe22498d7a",
   "metadata": {},
   "source": [
    "# SentencePiece\n",
    "\n",
    "```{note}\n",
    "SentencePiece is a simple and language independent subword tokenizer\n",
    "and detokenizer for Neural Text Processing. While existing subword segmentation\n",
    "tools assume that the input is pre-tokenized\n",
    "into word sequences, SentencePiece can\n",
    "train subword models directly from raw\n",
    "sentences.\n",
    "```"
   ]
  },
  {
   "cell_type": "markdown",
   "id": "b5a7859a-d4a0-4098-916e-b6266f8bd6d0",
   "metadata": {},
   "source": [
    "## System Overview\n",
    "\n"
   ]
  },
  {
   "cell_type": "code",
   "execution_count": null,
   "id": "80583ad2-3d57-42da-8c6c-fdbf4daa5974",
   "metadata": {},
   "outputs": [],
   "source": []
  }
 ],
 "metadata": {
  "kernelspec": {
   "display_name": "Python 3 (ipykernel)",
   "language": "python",
   "name": "python3"
  },
  "language_info": {
   "codemirror_mode": {
    "name": "ipython",
    "version": 3
   },
   "file_extension": ".py",
   "mimetype": "text/x-python",
   "name": "python",
   "nbconvert_exporter": "python",
   "pygments_lexer": "ipython3",
   "version": "3.11.5"
  }
 },
 "nbformat": 4,
 "nbformat_minor": 5
}
