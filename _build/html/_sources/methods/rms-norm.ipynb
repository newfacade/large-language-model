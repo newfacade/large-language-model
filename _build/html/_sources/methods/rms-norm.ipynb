{
 "cells": [
  {
   "cell_type": "markdown",
   "id": "88f8302f-77cd-40b5-b21a-c074a9d6eaa6",
   "metadata": {},
   "source": [
    "# RMS norm\n",
    "\n",
    "paper: https://arxiv.org/abs/1910.07467"
   ]
  },
  {
   "cell_type": "code",
   "execution_count": null,
   "id": "a17440a9-c273-425a-88c4-d61fcbae1bc6",
   "metadata": {},
   "outputs": [],
   "source": []
  }
 ],
 "metadata": {
  "kernelspec": {
   "display_name": "Python 3 (ipykernel)",
   "language": "python",
   "name": "python3"
  },
  "language_info": {
   "codemirror_mode": {
    "name": "ipython",
    "version": 3
   },
   "file_extension": ".py",
   "mimetype": "text/x-python",
   "name": "python",
   "nbconvert_exporter": "python",
   "pygments_lexer": "ipython3",
   "version": "3.11.5"
  }
 },
 "nbformat": 4,
 "nbformat_minor": 5
}
