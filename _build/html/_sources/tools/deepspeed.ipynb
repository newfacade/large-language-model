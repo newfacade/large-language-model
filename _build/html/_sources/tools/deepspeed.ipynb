{
 "cells": [
  {
   "cell_type": "markdown",
   "id": "9e983601-c8dc-4f75-99fb-0c7b57f24990",
   "metadata": {},
   "source": [
    "# DeepSpeed\n",
    "\n"
   ]
  },
  {
   "cell_type": "markdown",
   "id": "f13062e4-dead-4b5a-847f-e32234bd657c",
   "metadata": {},
   "source": [
    "## Installation\n",
    "\n",
    "* Installing is as simple as `pip install deepspeed`\n",
    "\n",
    "* DeepSpeed has direct integrations with HuggingFace Transformers and PyTorch Lightning. HuggingFace Transformers users can now easily accelerate their models with DeepSpeed through a simple `--deepspeed` flag + config file"
   ]
  },
  {
   "cell_type": "code",
   "execution_count": null,
   "id": "fb7b0efc-4f0f-4d4b-97f4-50b021451313",
   "metadata": {},
   "outputs": [],
   "source": []
  }
 ],
 "metadata": {
  "kernelspec": {
   "display_name": "Python 3 (ipykernel)",
   "language": "python",
   "name": "python3"
  },
  "language_info": {
   "codemirror_mode": {
    "name": "ipython",
    "version": 3
   },
   "file_extension": ".py",
   "mimetype": "text/x-python",
   "name": "python",
   "nbconvert_exporter": "python",
   "pygments_lexer": "ipython3",
   "version": "3.11.5"
  }
 },
 "nbformat": 4,
 "nbformat_minor": 5
}
