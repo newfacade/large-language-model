{
 "cells": [
  {
   "cell_type": "markdown",
   "id": "6e95503b-4a31-400f-9b86-031d8da3aa0c",
   "metadata": {},
   "source": [
    "# Regular Expressions with the re Module\n",
    "\n",
    "```{note}\n",
    "Using regular expressions, you specify the rules for the set of possible strings that you want to match; this set might contain English sentences, or e-mail addresses, or TeX commands, or anything you like. You can then ask questions such as “Does this string match the pattern?”, or “Is there a match for the pattern anywhere in this string?”. You can also use REs to modify a string or to split it apart in various ways.<br><br>\n",
    "The regular expression language is relatively small and restricted, so not all possible string processing tasks can be done using regular expressions. There are also tasks that can be done with regular expressions, but the expressions turn out to be very complicated. In these cases, you may be better off writing Python code to do the processing; while Python code will be slower than an elaborate regular expression, it will also probably be more understandable.\n",
    "```"
   ]
  },
  {
   "cell_type": "markdown",
   "id": "9b52a276-bc1f-4556-8542-b746db4244a3",
   "metadata": {},
   "source": [
    "## Simple Patterns\n",
    "\n",
    "We’ll start by learning about the simplest possible regular expressions. Since regular expressions are used to operate on strings, we’ll begin with the most common task: matching characters.\n",
    "\n",
    "### Matching Characters\n",
    "\n",
    "Most letters and characters will simply match themselves. For example, the regular expression `test` will match the string `test` exactly.\n",
    "\n",
    "There are exceptions to this rule; some characters are special metacharacters, and don’t match themselves. Instead, they signal that some out-of-the-ordinary thing should be matched, or they affect other portions of the RE by repeating them or changing their meaning. Here’s a complete list of the metacharacters; their meanings will be discussed later.\n",
    "\n",
    "```\n",
    ". ^ $ * + ? { } [ ] \\ | ( )\n",
    "```\n",
    "\n",
    "The first metacharacters we’ll look at are `[` and `]`. They’re used for specifying a character class, which is a set of characters that you wish to match. Characters can be listed individually, or a range of characters can be indicated by giving two characters and separating them by a '-'. For example, `[abc]` will match any of the characters a, b, or c; this is the same as `[a-c]`, which uses a range to express the same set of characters. If you wanted to match only lowercase letters, your RE would be `[a-z]`.\n",
    "\n",
    "Metacharacters (except `\\`) are not active inside classes. For example, `[akm$]` will match any of the characters 'a', 'k', 'm', or `'$'`; `'$'` is usually a metacharacter, but inside a character class it’s stripped of its special nature.\n",
    "\n",
    "You can match the characters not listed within the class by complementing the set. This is indicated by including a `'^'` as the first character of the class. For example, `[^5]` will match any character except '5'. If the caret appears elsewhere in a character class, it does not have special meaning. For example: `[5^]` will match either a '5' or a `'^'`.\n",
    "\n",
    "Perhaps the most important metacharacter is the backslash, `\\`. As in Python string literals, the backslash can be followed by various characters to signal various special sequences. It’s also used to escape all the metacharacters so you can still match them in patterns; for example, if you need to match a `[` or `\\`, you can precede them with a backslash to remove their special meaning: `\\[` or `\\\\`.\n",
    "\n",
    "Some of the special sequences beginning with `'\\'` represent predefined sets of characters that are often useful, such as the set of digits, the set of letters, or the set of anything that isn’t whitespace. The following list of special sequences isn’t complete:\n",
    "\n",
    "* `\\d` Matches any decimal digit; this is equivalent to the class `[0-9]`.\n",
    "\n",
    "* `\\D` Matches any non-digit character; this is equivalent to the class `[^0-9]`.\n",
    "\n",
    "* `\\s` Matches any whitespace character; this is equivalent to the class `[ \\t\\n\\r\\f\\v]`.\n",
    "\n",
    "* `\\w` Matches any alphanumeric character; this is equivalent to the class `[a-zA-Z0-9_]`.\n",
    "\n",
    "* `\\W` Matches any non-alphanumeric character; this is equivalent to the class `[^a-zA-Z0-9_]`.\n",
    "\n",
    "These sequences can be included inside a character class. For example, `[\\s,.]` is a character class that will match any whitespace character, or `','` or `'.'`.\n",
    "\n",
    "The final metacharacter in this section is `.`. It matches anything except a newline character, and there’s an alternate mode (re.DOTALL) where it will match even a newline. `.` is often used where you want to match “any character”."
   ]
  },
  {
   "cell_type": "markdown",
   "id": "b82757ec-1f6d-431c-8e80-33367587d4d6",
   "metadata": {},
   "source": [
    "### Repeating Things\n",
    "\n",
    "Being able to match varying sets of characters is the first thing regular expressions can do that isn’t already possible with the methods available on strings. Another capability is that you can specify that portions of the RE must be repeated a certain number of times.\n",
    "\n",
    "The first metacharacter for repeating things that we’ll look at is `*`. `*` doesn’t match the literal character `'*'`; instead, it specifies that the previous character can be matched zero or more times, instead of exactly once.\n",
    "\n",
    "For example, `ca*t` will match 'ct' (0 'a' characters), 'cat' (1 'a'), 'caaat' (3 'a' characters), and so forth.\n",
    "\n",
    "Repetitions such as `*` are greedy; when repeating a RE, the matching engine will try to repeat it as many times as possible. If later portions of the pattern don’t match, the matching engine will then back up and try again with fewer repetitions.\n",
    "\n",
    "A step-by-step example will make this more obvious. Let’s consider the expression `a[bcd]*b`. This matches the letter 'a', zero or more letters from the class `[bcd]`, and finally ends with a 'b'. Now imagine matching this RE against the string 'abcbd'.\n",
    "\n",
    "| Step | Matched | Explanation                                                                                       |\n",
    "|------|---------|---------------------------------------------------------------------------------------------------|\n",
    "| 1    | `a`     | The `a` in the RE matches.                                                                        |\n",
    "| 2    | `abcbd` | The engine matches `[bcd]*`, going as far as it can, which is to the end of the string.           |\n",
    "| 3    | Failure | The engine tries to match `b`, but the current position is at the end of the string, so it fails. |\n",
    "| 4    | `abcb`  | Back up, so that `[bcd]*` matches one less character.                                             |\n",
    "| 5    | Failure | Try `b` again, but the current position is at the last character, which is a `'d'`.               |\n",
    "| 6    | `abc`   | Back up again, so that `[bcd]*` is only matching `bc`.                                            |\n",
    "| 6    | `abcb`  | Try `b` again. This time the character at the current position is `'b'`, so it succeeds.          |\n",
    "\n",
    "The end of the RE has now been reached, and it has matched `'abcb'`. This demonstrates how the matching engine goes as far as it can at first, and if no match is found it will then progressively back up and retry the rest of the RE again and again. It will back up until it has tried zero matches for `[bcd]*`, and if that subsequently fails, the engine will conclude that the string doesn’t match the RE at all.\n",
    "\n",
    "Another repeating metacharacter is `+`, which matches one or more times.\n",
    "\n",
    "There are two more repeating operators or quantifiers. The question mark character, `?`, matches either once or zero times; you can think of it as marking something as being optional. For example, `home-?brew` matches either 'homebrew' or 'home-brew'.\n",
    "\n",
    "The most complicated quantifier is `{m,n}`, where m and n are decimal integers. This quantifier means there must be at least m repetitions, and at most n. For example, `a/{1,3}b` will match 'a/b', 'a//b', and 'a///b'. It won’t match 'ab', which has no slashes, or 'a////b', which has four.\n",
    "\n",
    "You can omit either m or n; in that case, a reasonable value is assumed for the missing value. Omitting m is interpreted as a lower limit of 0, while omitting n results in an upper bound of infinity.\n",
    "\n",
    "The simplest case `{m}` matches the preceding item exactly m times. For example, `a/{2}b` will only match 'a//b'.\n",
    "\n",
    "Readers may notice that the three other quantifiers can all be expressed using this notation. `{0,}` is the same as `*`, `{1,}` is equivalent to `+`, and `{0,1}` is the same as `?`. It’s better to use `*`, `+`, or `?` when you can, simply because they’re shorter and easier to read."
   ]
  },
  {
   "cell_type": "markdown",
   "id": "516b5930-863f-49d4-85b5-7fe175e6ad91",
   "metadata": {},
   "source": [
    "## Using Regular Expressions\n",
    "\n",
    "### Compiling Regular Expressions\n",
    "\n",
    "Regular expressions are compiled into pattern objects, which have methods for various operations such as searching for pattern matches or performing string substitutions."
   ]
  },
  {
   "cell_type": "code",
   "execution_count": 1,
   "id": "e9553958-5429-4bc7-b148-d4eace5c59c3",
   "metadata": {
    "tags": []
   },
   "outputs": [
    {
     "data": {
      "text/plain": [
       "re.compile(r'ab*', re.UNICODE)"
      ]
     },
     "execution_count": 1,
     "metadata": {},
     "output_type": "execute_result"
    }
   ],
   "source": [
    "import re\n",
    "\n",
    "p = re.compile('ab*')\n",
    "p"
   ]
  },
  {
   "cell_type": "markdown",
   "id": "1a840831-f8f3-4454-926d-32e26dee5709",
   "metadata": {},
   "source": [
    "re.compile() also accepts an optional flags argument, used to enable various special features. We’ll go over the available settings later, but for now a single example will do:"
   ]
  },
  {
   "cell_type": "code",
   "execution_count": 2,
   "id": "10bbf7df-4d2e-4bb0-96de-dc636c03dd48",
   "metadata": {
    "tags": []
   },
   "outputs": [],
   "source": [
    "p = re.compile('ab*', re.IGNORECASE)"
   ]
  },
  {
   "cell_type": "markdown",
   "id": "8c6c086c-a79d-49e0-a358-fc8d2126ae3d",
   "metadata": {},
   "source": [
    "The RE is passed to re.compile() as a string. REs are handled as strings because regular expressions aren’t part of the core Python language, and no special syntax was created for expressing them. The re module is simply a C extension module included with Python, just like the socket or zlib modules."
   ]
  },
  {
   "cell_type": "markdown",
   "id": "5255964a-084d-4c5a-be48-2e5433edf16a",
   "metadata": {},
   "source": [
    "### The Backslash Plague\n",
    "\n",
    "As stated earlier, regular expressions use the backslash character (`'\\'`) to indicate special forms or to allow special characters to be used without invoking their special meaning. This conflicts with Python’s usage of the same character for the same purpose in string literals.\n",
    "\n",
    "Let’s say you want to write a RE that matches the string `\\section`, you must escape any backslashes and other metacharacters by preceding them with a backslash, resulting in the string `\\\\section`. The resulting string that must be passed to re.compile() must be `\\\\section`. However, to express this as a Python string literal, both backslashes must be escaped again. \n",
    "\n",
    "| Characters      | Stage                                    |\n",
    "|-----------------|------------------------------------------|\n",
    "| `\\section`      | Text string to be matched                |\n",
    "| `\\\\section`     | Escaped backslash for re.compile()       |\n",
    "| `\"\\\\\\\\section\"` | Escaped backslashes for a string literal |"
   ]
  },
  {
   "cell_type": "code",
   "execution_count": 3,
   "id": "7209ef68-9bf6-468a-a430-67ce44a286b5",
   "metadata": {
    "tags": []
   },
   "outputs": [
    {
     "name": "stdout",
     "output_type": "stream",
     "text": [
      "\\\\section\n"
     ]
    }
   ],
   "source": [
    "print(\"\\\\\\\\section\")"
   ]
  },
  {
   "cell_type": "markdown",
   "id": "1a897582-4c07-4094-baa9-25d34a5c5c17",
   "metadata": {},
   "source": [
    "In short, to match a literal backslash, one has to write `'\\\\\\\\'` as the RE string. In REs that feature backslashes repeatedly, this leads to lots of repeated backslashes and makes the resulting strings difficult to understand.\n",
    "\n",
    "The solution is to use Python’s raw string notation for regular expressions; backslashes are not handled in any special way in a string literal prefixed with `'r'`, so `r\"\\n\"` is a two-character string containing `'\\'` and `'n'`, while `\"\\n\"` is a one-character string containing a newline.\n",
    "\n",
    "| Regular String | Raw string   |\n",
    "|----------------|--------------|\n",
    "| \"ab*\"          | r\"ab*\"       |\n",
    "| \"\\\\\\\\section\"  | r\"\\\\section\" |\n",
    "| \"\\\\w+\\\\s+\\\\1\"  | r\"\\w+\\s+\\1\"  |"
   ]
  },
  {
   "cell_type": "markdown",
   "id": "0ba4e6f1-df00-4786-a6fb-c8b130ac5491",
   "metadata": {},
   "source": [
    "### Performing Matches\n",
    "\n",
    "Once you have an object representing a compiled regular expression, what do you do with it? Pattern objects have several methods and attributes. Only the most significant ones will be covered here.\n",
    "\n",
    "| Method/Attribute | Purpose                                                                    |\n",
    "|------------------|----------------------------------------------------------------------------|\n",
    "| `match()`        | Determine if the RE matches at the beginning of the string.                |\n",
    "| `search()`       | Scan through a string, looking for any location where this RE matches.     |\n",
    "| `findall()`      | Find all substrings where the RE matches, and returns them as a list.      |\n",
    "| `finditer()`     | Find all substrings where the RE matches, and returns them as an iterator. |\n",
    "\n",
    "`match()` and `search()` return None if no match can be found. If they’re successful, a match object instance is returned, containing information about the match: where it starts and ends, the substring it matched, and more."
   ]
  },
  {
   "cell_type": "code",
   "execution_count": 4,
   "id": "c74c8711-d888-452c-8ec3-1e9baed5e38d",
   "metadata": {
    "tags": []
   },
   "outputs": [
    {
     "data": {
      "text/plain": [
       "re.compile(r'[a-z]+', re.UNICODE)"
      ]
     },
     "execution_count": 4,
     "metadata": {},
     "output_type": "execute_result"
    }
   ],
   "source": [
    "p = re.compile('[a-z]+')\n",
    "p"
   ]
  },
  {
   "cell_type": "markdown",
   "id": "4f9ea28f-2866-4d03-9cc4-be9b76171300",
   "metadata": {},
   "source": [
    "Now, you can try matching various strings against the RE `[a-z]+`. An empty string shouldn’t match at all, since `+` means ‘one or more repetitions’."
   ]
  },
  {
   "cell_type": "code",
   "execution_count": 5,
   "id": "e91917ff-c1ca-4ad7-8f8b-068198859789",
   "metadata": {
    "tags": []
   },
   "outputs": [],
   "source": [
    "# None\n",
    "p.match(\"\")"
   ]
  },
  {
   "cell_type": "markdown",
   "id": "5e897419-4fe8-4fa2-b5fe-00606a3b3437",
   "metadata": {},
   "source": [
    "Now, let’s try it on a string that it should match, such as tempo. In this case, `match()` will return a match object, so you should store the result in a variable for later use."
   ]
  },
  {
   "cell_type": "code",
   "execution_count": 6,
   "id": "6f589aa7-44b2-40d0-87d5-ceaa49aeac23",
   "metadata": {
    "tags": []
   },
   "outputs": [
    {
     "data": {
      "text/plain": [
       "<re.Match object; span=(0, 5), match='tempo'>"
      ]
     },
     "execution_count": 6,
     "metadata": {},
     "output_type": "execute_result"
    }
   ],
   "source": [
    "m = p.match('tempo_')\n",
    "m"
   ]
  },
  {
   "cell_type": "markdown",
   "id": "ba5da10e-7694-4bd8-b21a-b3bd314e953f",
   "metadata": {},
   "source": [
    "Now you can query the match object for information about the matching string. Match object instances also have several methods and attributes; the most important ones are:\n",
    "\n",
    "| Method/Attribute | Purpose                                                           |\n",
    "|------------------|-------------------------------------------------------------------|\n",
    "| `group()`        | Return the string matched by the RE                               |\n",
    "| `start()`        | Return the starting position of the match                         |\n",
    "| `end()`          | Return the ending position of the match                           |\n",
    "| `span()`         | Return a tuple containing the (start, end) positions of the match |\n",
    "\n",
    "Trying these methods will soon clarify their meaning:"
   ]
  },
  {
   "cell_type": "code",
   "execution_count": 7,
   "id": "be0994ec-4d54-4429-9473-8033dd961151",
   "metadata": {
    "tags": []
   },
   "outputs": [
    {
     "data": {
      "text/plain": [
       "'tempo'"
      ]
     },
     "execution_count": 7,
     "metadata": {},
     "output_type": "execute_result"
    }
   ],
   "source": [
    "# greedy\n",
    "m.group()"
   ]
  },
  {
   "cell_type": "code",
   "execution_count": 8,
   "id": "6c5b0d13-c27b-4392-bd94-32045a93c1f3",
   "metadata": {
    "tags": []
   },
   "outputs": [
    {
     "data": {
      "text/plain": [
       "(0, 5)"
      ]
     },
     "execution_count": 8,
     "metadata": {},
     "output_type": "execute_result"
    }
   ],
   "source": [
    "m.start(), m.end()"
   ]
  },
  {
   "cell_type": "code",
   "execution_count": 9,
   "id": "79b7f966-8502-4771-86d4-d60d5ded41dd",
   "metadata": {
    "tags": []
   },
   "outputs": [
    {
     "data": {
      "text/plain": [
       "(0, 5)"
      ]
     },
     "execution_count": 9,
     "metadata": {},
     "output_type": "execute_result"
    }
   ],
   "source": [
    "m.span()"
   ]
  },
  {
   "cell_type": "markdown",
   "id": "bd5a2442-b0e8-4926-af52-cceea4cecf12",
   "metadata": {},
   "source": [
    "Since the match() method only checks if the RE matches at the start of a string, start() will always be zero. However, the search() method of patterns scans through the string, so the match may not start at zero in that case."
   ]
  },
  {
   "cell_type": "code",
   "execution_count": 10,
   "id": "70dc2e3f-f3e3-4693-9047-76ce1ceb4fa8",
   "metadata": {
    "tags": []
   },
   "outputs": [],
   "source": [
    "# None\n",
    "p.match('::: message--x')"
   ]
  },
  {
   "cell_type": "code",
   "execution_count": 11,
   "id": "e7a5eb25-966c-4f94-831c-c42a2a32c70b",
   "metadata": {
    "tags": []
   },
   "outputs": [
    {
     "data": {
      "text/plain": [
       "<re.Match object; span=(4, 11), match='message'>"
      ]
     },
     "execution_count": 11,
     "metadata": {},
     "output_type": "execute_result"
    }
   ],
   "source": [
    "m = p.search('::: message--x')\n",
    "m"
   ]
  },
  {
   "cell_type": "code",
   "execution_count": 12,
   "id": "e7d4c16e-e63b-4664-8342-1383be901b10",
   "metadata": {
    "tags": []
   },
   "outputs": [
    {
     "data": {
      "text/plain": [
       "'message'"
      ]
     },
     "execution_count": 12,
     "metadata": {},
     "output_type": "execute_result"
    }
   ],
   "source": [
    "# first greedy\n",
    "m.group()"
   ]
  },
  {
   "cell_type": "code",
   "execution_count": 13,
   "id": "4ba9dd76-d5ea-41e1-9266-d05b544d530e",
   "metadata": {
    "tags": []
   },
   "outputs": [
    {
     "data": {
      "text/plain": [
       "(4, 11)"
      ]
     },
     "execution_count": 13,
     "metadata": {},
     "output_type": "execute_result"
    }
   ],
   "source": [
    "m.span()"
   ]
  },
  {
   "cell_type": "markdown",
   "id": "fe546956-c981-4aa7-847c-50cad7932b88",
   "metadata": {},
   "source": [
    "In actual programs, the most common style is to store the match object in a variable, and then check if it was None.\n",
    "\n",
    "Two pattern methods return all of the matches for a pattern. findall() returns a list of matching strings:"
   ]
  },
  {
   "cell_type": "code",
   "execution_count": 14,
   "id": "b0aa154d-2cb9-4784-b621-1cd41c97ff1b",
   "metadata": {
    "tags": []
   },
   "outputs": [
    {
     "data": {
      "text/plain": [
       "['12', '11', '10']"
      ]
     },
     "execution_count": 14,
     "metadata": {},
     "output_type": "execute_result"
    }
   ],
   "source": [
    "p = re.compile(r'\\d+')\n",
    "p.findall('12 drummers drumming, 11 pipers piping, 10 lords a-leaping')"
   ]
  },
  {
   "cell_type": "markdown",
   "id": "fa408444-58bc-4b70-ad31-785a6cfec313",
   "metadata": {},
   "source": [
    "`findall()` has to create the entire list before it can be returned as the result. The `finditer()` method returns a sequence of match object instances as an iterator:"
   ]
  },
  {
   "cell_type": "code",
   "execution_count": 15,
   "id": "4b70e30f-abff-474d-bc65-2f4518108943",
   "metadata": {
    "tags": []
   },
   "outputs": [
    {
     "data": {
      "text/plain": [
       "<callable_iterator at 0x10890dc30>"
      ]
     },
     "execution_count": 15,
     "metadata": {},
     "output_type": "execute_result"
    }
   ],
   "source": [
    "iterator = p.finditer('12 drummers drumming, 11 ... 10 ...')\n",
    "iterator"
   ]
  },
  {
   "cell_type": "code",
   "execution_count": 16,
   "id": "94238956-0672-48c9-95f3-75eb7d34ddb7",
   "metadata": {
    "tags": []
   },
   "outputs": [
    {
     "name": "stdout",
     "output_type": "stream",
     "text": [
      "(0, 2)\n",
      "(22, 24)\n",
      "(29, 31)\n"
     ]
    }
   ],
   "source": [
    "for match in iterator:\n",
    "    print(match.span())"
   ]
  },
  {
   "cell_type": "markdown",
   "id": "075483ee-ced0-4dd2-9598-72587aa6e6b0",
   "metadata": {},
   "source": [
    "### Module-Level Functions\n",
    "\n",
    "You don’t have to create a pattern object and call its methods; the `re` module also provides top-level functions called `match()`, `search()`, `findall()`, and so forth. "
   ]
  },
  {
   "cell_type": "code",
   "execution_count": 17,
   "id": "679b4b61-c1c7-460c-a9b8-a0da035f7149",
   "metadata": {
    "tags": []
   },
   "outputs": [
    {
     "name": "stdout",
     "output_type": "stream",
     "text": [
      "None\n"
     ]
    }
   ],
   "source": [
    "print(re.match(r'From\\s+', 'Fromage amk'))"
   ]
  },
  {
   "cell_type": "code",
   "execution_count": 18,
   "id": "a8a30891-f802-419c-9413-3b0e2fdf5663",
   "metadata": {
    "tags": []
   },
   "outputs": [
    {
     "data": {
      "text/plain": [
       "<re.Match object; span=(0, 5), match='From '>"
      ]
     },
     "execution_count": 18,
     "metadata": {},
     "output_type": "execute_result"
    }
   ],
   "source": [
    "re.match(r'From\\s+', 'From amk Thu May 14 19:12:10 1998')"
   ]
  },
  {
   "cell_type": "markdown",
   "id": "1ccf45db-8b07-47f0-b5b9-6aa9afe3072a",
   "metadata": {},
   "source": [
    "### Compilation Flags\n",
    "\n",
    "Compilation flags let you modify some aspects of how regular expressions work. Flags are available in the re module under two names, a long name such as `IGNORECASE` and a short, one-letter form such as `I`.\n",
    "\n",
    "Here’s a table of some available flags.\n",
    "\n",
    "| Flag          | Meaning                                                                                                     |\n",
    "|---------------|-------------------------------------------------------------------------------------------------------------|\n",
    "| ASCII, A      | Makes several escapes like `\\w`, `\\s` and `\\d` match only on ASCII characters with the respective property. |\n",
    "| DOTALL, S     | Make . match any character, including newlines.                                                             |\n",
    "| IGNORECASE, I | Do case-insensitive matches.                                                                                |"
   ]
  },
  {
   "cell_type": "markdown",
   "id": "c6399d32-ac67-4a4d-9d85-0edff67af394",
   "metadata": {},
   "source": [
    "## More Pattern Power\n",
    "\n",
    "So far we’ve only covered a part of the features of regular expressions. In this section, we’ll cover some new metacharacters, and how to use groups to retrieve portions of the text that was matched."
   ]
  },
  {
   "cell_type": "markdown",
   "id": "3ca224e4-01b9-4522-bc4f-a9a1b23a637f",
   "metadata": {},
   "source": [
    "### More Metacharacters\n",
    "\n",
    "* `|` The “or” operator. If A and B are regular expressions, A|B will match any string that matches either A or B.\n",
    "\n",
    "* `^` Matches at the beginning of lines. Unless the MULTILINE flag has been set, this will only match at the beginning of the string."
   ]
  },
  {
   "cell_type": "code",
   "execution_count": 19,
   "id": "4982577d-809b-4b1a-9146-414cfc1f529a",
   "metadata": {
    "tags": []
   },
   "outputs": [],
   "source": [
    "p1 = re.compile('^From', re.MULTILINE)\n",
    "p2 = re.compile('^From')"
   ]
  },
  {
   "cell_type": "code",
   "execution_count": 20,
   "id": "8e7e3621-f6c0-4a1b-b64b-d6527ea3d9f6",
   "metadata": {
    "tags": []
   },
   "outputs": [
    {
     "data": {
      "text/plain": [
       "<re.Match object; span=(10, 14), match='From'>"
      ]
     },
     "execution_count": 20,
     "metadata": {},
     "output_type": "execute_result"
    }
   ],
   "source": [
    "p1.search('Reciting \\nFrom Memory\\nFrom other')"
   ]
  },
  {
   "cell_type": "code",
   "execution_count": 21,
   "id": "efcfe3c2-10c1-4907-a83e-50dc29c8fdfb",
   "metadata": {
    "tags": []
   },
   "outputs": [],
   "source": [
    "p2.search('Reciting \\nFrom Memory\\nFrom other')"
   ]
  },
  {
   "cell_type": "code",
   "execution_count": 22,
   "id": "a6ab5a1a-0d0d-49f6-9473-d96e93e58ce8",
   "metadata": {
    "tags": []
   },
   "outputs": [
    {
     "data": {
      "text/plain": [
       "<re.Match object; span=(0, 4), match='From'>"
      ]
     },
     "execution_count": 22,
     "metadata": {},
     "output_type": "execute_result"
    }
   ],
   "source": [
    "re.search('^From', 'From Here to Eternity')"
   ]
  },
  {
   "cell_type": "markdown",
   "id": "8c1f8385-0235-4eff-bf08-31f68493a4b7",
   "metadata": {},
   "source": [
    "* `$` Matches at the end of a line, which is defined as either the end of the string, or any location followed by a newline character.\n",
    "\n"
   ]
  },
  {
   "cell_type": "code",
   "execution_count": 23,
   "id": "bb06cff4-3046-41e8-bf42-85e13ab9b9bc",
   "metadata": {
    "tags": []
   },
   "outputs": [
    {
     "data": {
      "text/plain": [
       "<re.Match object; span=(6, 7), match='}'>"
      ]
     },
     "execution_count": 23,
     "metadata": {},
     "output_type": "execute_result"
    }
   ],
   "source": [
    "re.search('}$', '{block}')"
   ]
  },
  {
   "cell_type": "code",
   "execution_count": 24,
   "id": "d1ff9346-39cf-45a5-9601-338387b9be56",
   "metadata": {
    "tags": []
   },
   "outputs": [],
   "source": [
    "re.search('}$', '{block} ')"
   ]
  },
  {
   "cell_type": "code",
   "execution_count": 25,
   "id": "e3843a27-d4df-4d16-aeac-9659a91eabad",
   "metadata": {
    "tags": []
   },
   "outputs": [
    {
     "data": {
      "text/plain": [
       "<re.Match object; span=(6, 7), match='}'>"
      ]
     },
     "execution_count": 25,
     "metadata": {},
     "output_type": "execute_result"
    }
   ],
   "source": [
    "re.search('}$', '{block}\\n')"
   ]
  },
  {
   "cell_type": "code",
   "execution_count": 26,
   "id": "5338794d-8602-4c72-b704-e17190410756",
   "metadata": {
    "tags": []
   },
   "outputs": [],
   "source": [
    "re.search('}$', '{block}\\n123')"
   ]
  },
  {
   "cell_type": "markdown",
   "id": "985bfc91-a2b1-4a0a-8ae8-d81e52c7821d",
   "metadata": {},
   "source": [
    "* `\\A` Matches only at the start of the string. When not in MULTILINE mode, `\\A` and `^` are effectively the same. In MULTILINE mode, they’re different: `\\A` still matches only at the beginning of the string, but `^` may match at any location inside the string that follows a newline character.\n",
    "\n",
    "* `\\Z` Matches only at the end of the string.\n",
    "\n",
    "* `\\b` Word boundary. This is a zero-width assertion that matches only at the beginning or end of a word. A word is defined as a sequence of alphanumeric characters, so the end of a word is indicated by whitespace or a non-alphanumeric character. The following example matches `class` only when it’s a complete word; it won’t match when it’s contained inside another word."
   ]
  },
  {
   "cell_type": "code",
   "execution_count": 27,
   "id": "e896c64c-889f-42bb-9f48-41cee433701d",
   "metadata": {
    "tags": []
   },
   "outputs": [
    {
     "data": {
      "text/plain": [
       "<re.Match object; span=(3, 8), match='class'>"
      ]
     },
     "execution_count": 27,
     "metadata": {},
     "output_type": "execute_result"
    }
   ],
   "source": [
    "p = re.compile(r'\\bclass\\b')\n",
    "p.search('no class at all')"
   ]
  },
  {
   "cell_type": "code",
   "execution_count": 28,
   "id": "a19d2801-be36-4590-b669-95d06361b4c7",
   "metadata": {
    "tags": []
   },
   "outputs": [],
   "source": [
    "p.search('one subclass is')"
   ]
  },
  {
   "cell_type": "markdown",
   "id": "4b41204d-56a7-49b8-b3b5-92c63fb73c20",
   "metadata": {},
   "source": [
    "* `\\B` Another zero-width assertion, this is the opposite of `\\b`, only matching when the current position is not at a word boundary."
   ]
  },
  {
   "cell_type": "code",
   "execution_count": 29,
   "id": "fe59b5e4-52d7-4341-8f32-a3b55c131930",
   "metadata": {
    "tags": []
   },
   "outputs": [],
   "source": [
    "p = re.compile(r'\\Bclass\\b')\n",
    "p.search('no class at all')"
   ]
  },
  {
   "cell_type": "code",
   "execution_count": 30,
   "id": "b4c15a6f-cb7a-464b-b222-20462d7c32b7",
   "metadata": {
    "tags": []
   },
   "outputs": [
    {
     "data": {
      "text/plain": [
       "<re.Match object; span=(7, 12), match='class'>"
      ]
     },
     "execution_count": 30,
     "metadata": {},
     "output_type": "execute_result"
    }
   ],
   "source": [
    "p.search('one subclass is')"
   ]
  },
  {
   "cell_type": "markdown",
   "id": "9076ef88-c29e-4ca3-aff6-feefe1132bbe",
   "metadata": {},
   "source": [
    "### Grouping\n",
    "\n",
    "Frequently you need to obtain more information than just whether the RE matched or not. Regular expressions are often used to dissect strings by writing a RE divided into several subgroups which match different components of interest. \n",
    "\n",
    "Groups are marked by the `'('`, `')'` metacharacters."
   ]
  },
  {
   "cell_type": "code",
   "execution_count": 31,
   "id": "c0372a98-e6ba-49a5-b27d-ddb1b2027ed3",
   "metadata": {
    "tags": []
   },
   "outputs": [
    {
     "data": {
      "text/plain": [
       "<re.Match object; span=(0, 10), match='ababababab'>"
      ]
     },
     "execution_count": 31,
     "metadata": {},
     "output_type": "execute_result"
    }
   ],
   "source": [
    "p = re.compile('(ab)*')\n",
    "p.match('ababababab')"
   ]
  },
  {
   "cell_type": "markdown",
   "id": "d3c39bfc-0d44-416b-b315-b725c2143f6b",
   "metadata": {},
   "source": [
    "Groups indicated with `'('`, `')'` capture the starting and ending index of the text that they match. Groups are numbered starting with 0. Group 0 is always present; it’s the whole RE, so match object methods all have group 0 as their default argument."
   ]
  },
  {
   "cell_type": "code",
   "execution_count": 32,
   "id": "f48a5a6e-e349-4d49-abfc-92a51f4c6598",
   "metadata": {
    "tags": []
   },
   "outputs": [
    {
     "data": {
      "text/plain": [
       "'ab'"
      ]
     },
     "execution_count": 32,
     "metadata": {},
     "output_type": "execute_result"
    }
   ],
   "source": [
    "p = re.compile('(a)b')\n",
    "m = p.match('ab')\n",
    "# whole RE\n",
    "m.group()"
   ]
  },
  {
   "cell_type": "code",
   "execution_count": 33,
   "id": "778855ac-7640-4245-9d76-1523a8dcb415",
   "metadata": {
    "tags": []
   },
   "outputs": [
    {
     "data": {
      "text/plain": [
       "'ab'"
      ]
     },
     "execution_count": 33,
     "metadata": {},
     "output_type": "execute_result"
    }
   ],
   "source": [
    "# whole RE\n",
    "m.group(0)"
   ]
  },
  {
   "cell_type": "code",
   "execution_count": 34,
   "id": "2c37e67c-d324-48c1-94a9-6bc8a7a5a1b6",
   "metadata": {
    "tags": []
   },
   "outputs": [
    {
     "data": {
      "text/plain": [
       "'a'"
      ]
     },
     "execution_count": 34,
     "metadata": {},
     "output_type": "execute_result"
    }
   ],
   "source": [
    "# RE: a\n",
    "m.group(1)"
   ]
  },
  {
   "cell_type": "markdown",
   "id": "2272afe1-b98a-48e0-951a-28f222b58d37",
   "metadata": {},
   "source": [
    "Subgroups are numbered from left to right, from 1 upward. Groups can be nested; to determine the number, just count the opening parenthesis characters, going from left to right."
   ]
  },
  {
   "cell_type": "code",
   "execution_count": 35,
   "id": "78b3dd84-1250-4cef-a89f-dbb3b96665a6",
   "metadata": {
    "tags": []
   },
   "outputs": [
    {
     "data": {
      "text/plain": [
       "'abcd'"
      ]
     },
     "execution_count": 35,
     "metadata": {},
     "output_type": "execute_result"
    }
   ],
   "source": [
    "p = re.compile('(a(b)c)d')\n",
    "m = p.match('abcd')\n",
    "# RE: (a(b)c)d\n",
    "m.group(0)"
   ]
  },
  {
   "cell_type": "code",
   "execution_count": 36,
   "id": "5c6ec212-6075-43f9-a930-0855d1c5e4a7",
   "metadata": {
    "tags": []
   },
   "outputs": [
    {
     "data": {
      "text/plain": [
       "'abc'"
      ]
     },
     "execution_count": 36,
     "metadata": {},
     "output_type": "execute_result"
    }
   ],
   "source": [
    "# a(b)c\n",
    "m.group(1)"
   ]
  },
  {
   "cell_type": "code",
   "execution_count": 37,
   "id": "fdeb5c6e-0d57-4a66-916a-8c277243604f",
   "metadata": {
    "tags": []
   },
   "outputs": [
    {
     "data": {
      "text/plain": [
       "'b'"
      ]
     },
     "execution_count": 37,
     "metadata": {},
     "output_type": "execute_result"
    }
   ],
   "source": [
    "# \n",
    "m.group(2)"
   ]
  },
  {
   "cell_type": "markdown",
   "id": "12d09230-1cdf-4a3d-ab4a-bc3cfbcfb24a",
   "metadata": {},
   "source": [
    "`group()` can be passed multiple group numbers at a time, in which case it will return a tuple containing the corresponding values for those groups."
   ]
  },
  {
   "cell_type": "code",
   "execution_count": 38,
   "id": "be60e0bd-ba66-40b4-a659-7c86896f0ef2",
   "metadata": {
    "tags": []
   },
   "outputs": [
    {
     "data": {
      "text/plain": [
       "('b', 'abc', 'b')"
      ]
     },
     "execution_count": 38,
     "metadata": {},
     "output_type": "execute_result"
    }
   ],
   "source": [
    "m.group(2,1,2)"
   ]
  },
  {
   "cell_type": "code",
   "execution_count": 39,
   "id": "3ac9d3a3-f395-4f06-aeaf-407e719e31f1",
   "metadata": {
    "tags": []
   },
   "outputs": [
    {
     "data": {
      "text/plain": [
       "('abc', 'b')"
      ]
     },
     "execution_count": 39,
     "metadata": {},
     "output_type": "execute_result"
    }
   ],
   "source": [
    "# The groups() method returns a tuple containing the strings for all the subgroups, from 1 up to however many there are.\n",
    "m.groups()"
   ]
  },
  {
   "cell_type": "markdown",
   "id": "4f8027c4-6624-46c1-99d9-d33612fbdb33",
   "metadata": {},
   "source": [
    "Backreferences in a pattern allow you to specify that the contents of an earlier capturing group must also be found at the current location in the string. For example, `\\1` will succeed if the exact contents of group 1 can be found at the current position, and fails otherwise."
   ]
  },
  {
   "cell_type": "code",
   "execution_count": 40,
   "id": "646f73db-a804-47b5-af56-7f7cc1e74709",
   "metadata": {
    "tags": []
   },
   "outputs": [
    {
     "data": {
      "text/plain": [
       "'the the'"
      ]
     },
     "execution_count": 40,
     "metadata": {},
     "output_type": "execute_result"
    }
   ],
   "source": [
    "# detects doubled words in a string\n",
    "p = re.compile(r'\\b(\\w+)\\s+\\1\\b')\n",
    "p.search('Paris in the the spring').group()"
   ]
  },
  {
   "cell_type": "markdown",
   "id": "8e52ca0f-8e7b-4f8e-b5af-f0b4eb7bc00e",
   "metadata": {},
   "source": [
    "## Modifying Strings\n",
    "\n",
    "Up to this point, we’ve simply performed searches against a static string. Regular expressions are also commonly used to modify strings in various ways, using the following pattern methods:\n",
    "\n",
    "| Method/Attribute | Purpose                                                                                 |\n",
    "|------------------|-----------------------------------------------------------------------------------------|\n",
    "| split()          | Split the string into a list, splitting it wherever the RE matches                      |\n",
    "| sub()            | Find all substrings where the RE matches, and replace them with a different string      |\n",
    "| subn()           | Does the same thing as sub(), but returns the new string and the number of replacements |\n",
    "\n",
    "### Splitting String\n",
    "\n",
    "The `split()` method is similar to the `split()` method of strings but provides much more generality in the delimiters that you can split by."
   ]
  },
  {
   "cell_type": "code",
   "execution_count": 41,
   "id": "536826bb-c081-4fa6-b8a4-7a1d23b5e4dd",
   "metadata": {
    "tags": []
   },
   "outputs": [
    {
     "data": {
      "text/plain": [
       "['This', 'is', 'a', 'test', 'short', 'and', 'sweet', 'of', 'split', '']"
      ]
     },
     "execution_count": 41,
     "metadata": {},
     "output_type": "execute_result"
    }
   ],
   "source": [
    "p = re.compile(r'\\W+')\n",
    "p.split('This is a test, short and sweet, of split().')"
   ]
  },
  {
   "cell_type": "code",
   "execution_count": 42,
   "id": "5bd611d1-141b-4e1a-95fa-81c161e2ad3a",
   "metadata": {
    "tags": []
   },
   "outputs": [
    {
     "data": {
      "text/plain": [
       "['This', 'is', 'a', 'test, short and sweet, of split().']"
      ]
     },
     "execution_count": 42,
     "metadata": {},
     "output_type": "execute_result"
    }
   ],
   "source": [
    "# limit the number of splits made\n",
    "p.split('This is a test, short and sweet, of split().', 3)"
   ]
  },
  {
   "cell_type": "code",
   "execution_count": 43,
   "id": "e9c2ff8a-1aef-4b4c-950c-8f6989dc6ea9",
   "metadata": {
    "tags": []
   },
   "outputs": [],
   "source": [
    "p = re.compile(r'\\W+')\n",
    "# using parentheses, delimiter also returned as part of the list\n",
    "p2 = re.compile(r'(\\W+)')"
   ]
  },
  {
   "cell_type": "code",
   "execution_count": 44,
   "id": "e21f67a8-41ce-45de-bc04-1dddba30d8f3",
   "metadata": {
    "tags": []
   },
   "outputs": [
    {
     "data": {
      "text/plain": [
       "['This', 'is', 'a', 'test', '']"
      ]
     },
     "execution_count": 44,
     "metadata": {},
     "output_type": "execute_result"
    }
   ],
   "source": [
    "p.split('This... is a test.')"
   ]
  },
  {
   "cell_type": "code",
   "execution_count": 45,
   "id": "f87bf945-3c53-42e4-8c54-028a2e0f8fec",
   "metadata": {
    "tags": []
   },
   "outputs": [
    {
     "data": {
      "text/plain": [
       "['This', '... ', 'is', ' ', 'a', ' ', 'test', '.', '']"
      ]
     },
     "execution_count": 45,
     "metadata": {},
     "output_type": "execute_result"
    }
   ],
   "source": [
    "p2.split('This... is a test.')"
   ]
  },
  {
   "cell_type": "markdown",
   "id": "387f81a5-db59-4d41-88e4-d68809d54e47",
   "metadata": {},
   "source": [
    "### Search and Replace\n",
    "\n",
    "Another common task is to find all the matches for a pattern, and replace them with a different string. The `sub()` method takes a replacement value, and the string to be processed."
   ]
  },
  {
   "cell_type": "code",
   "execution_count": 46,
   "id": "1d156834-a5c9-467f-9443-10091a3e1d44",
   "metadata": {
    "tags": []
   },
   "outputs": [
    {
     "data": {
      "text/plain": [
       "'colour socks and colour shoes'"
      ]
     },
     "execution_count": 46,
     "metadata": {},
     "output_type": "execute_result"
    }
   ],
   "source": [
    "p = re.compile('(blue|white|red)')\n",
    "p.sub('colour', 'blue socks and red shoes')"
   ]
  },
  {
   "cell_type": "code",
   "execution_count": 47,
   "id": "8f72f074-669f-487d-8daa-b55acbfd5c0c",
   "metadata": {
    "tags": []
   },
   "outputs": [
    {
     "data": {
      "text/plain": [
       "'colour socks and red shoes'"
      ]
     },
     "execution_count": 47,
     "metadata": {},
     "output_type": "execute_result"
    }
   ],
   "source": [
    "p.sub('colour', 'blue socks and red shoes', count=1)"
   ]
  },
  {
   "cell_type": "markdown",
   "id": "3230412f-4028-47c4-bd28-0f4ffec11e37",
   "metadata": {},
   "source": [
    "The `subn()` method does the same work, but returns a 2-tuple containing the new string value and the number of replacements that were performed:"
   ]
  },
  {
   "cell_type": "code",
   "execution_count": 48,
   "id": "cabe69d2-6d9b-4c0b-b6e7-bfe7f6af0d07",
   "metadata": {
    "tags": []
   },
   "outputs": [
    {
     "data": {
      "text/plain": [
       "('colour socks and colour shoes', 2)"
      ]
     },
     "execution_count": 48,
     "metadata": {},
     "output_type": "execute_result"
    }
   ],
   "source": [
    "p.subn('colour', 'blue socks and red shoes')"
   ]
  },
  {
   "cell_type": "code",
   "execution_count": 49,
   "id": "2e0a723a-a754-41ac-90a0-720f9d49130e",
   "metadata": {
    "tags": []
   },
   "outputs": [
    {
     "data": {
      "text/plain": [
       "('no colours at all', 0)"
      ]
     },
     "execution_count": 49,
     "metadata": {},
     "output_type": "execute_result"
    }
   ],
   "source": [
    "p.subn('colour', 'no colours at all')"
   ]
  },
  {
   "cell_type": "markdown",
   "id": "20e852fe-8081-479a-b4d0-025b7da664a2",
   "metadata": {},
   "source": [
    "Empty matches are replaced only when they’re not adjacent to a previous empty match."
   ]
  },
  {
   "cell_type": "code",
   "execution_count": 50,
   "id": "2dd24c82-3b67-49f1-9e6f-b87e4d347c9e",
   "metadata": {
    "tags": []
   },
   "outputs": [
    {
     "data": {
      "text/plain": [
       "'-a-b--d-'"
      ]
     },
     "execution_count": 50,
     "metadata": {},
     "output_type": "execute_result"
    }
   ],
   "source": [
    "p = re.compile('x*')\n",
    "p.sub('-', 'abxd')"
   ]
  },
  {
   "cell_type": "code",
   "execution_count": null,
   "id": "07d9bd30-657e-4440-a6dd-b1757dfef603",
   "metadata": {},
   "outputs": [],
   "source": []
  }
 ],
 "metadata": {
  "kernelspec": {
   "display_name": "Python 3 (ipykernel)",
   "language": "python",
   "name": "python3"
  },
  "language_info": {
   "codemirror_mode": {
    "name": "ipython",
    "version": 3
   },
   "file_extension": ".py",
   "mimetype": "text/x-python",
   "name": "python",
   "nbconvert_exporter": "python",
   "pygments_lexer": "ipython3",
   "version": "3.11.5"
  }
 },
 "nbformat": 4,
 "nbformat_minor": 5
}