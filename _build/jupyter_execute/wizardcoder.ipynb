{
 "cells": [
  {
   "cell_type": "markdown",
   "id": "3e9c5de5-891b-4260-bc84-2594991b7487",
   "metadata": {},
   "source": [
    "# WizardCoder: Empowering Code Large Language Models with Evol-Instruct"
   ]
  },
  {
   "cell_type": "code",
   "execution_count": null,
   "id": "ba1449c4-1836-4493-9edd-cdcd786443d5",
   "metadata": {},
   "outputs": [],
   "source": []
  }
 ],
 "metadata": {
  "kernelspec": {
   "display_name": "Python 3 (ipykernel)",
   "language": "python",
   "name": "python3"
  },
  "language_info": {
   "codemirror_mode": {
    "name": "ipython",
    "version": 3
   },
   "file_extension": ".py",
   "mimetype": "text/x-python",
   "name": "python",
   "nbconvert_exporter": "python",
   "pygments_lexer": "ipython3",
   "version": "3.11.5"
  }
 },
 "nbformat": 4,
 "nbformat_minor": 5
}